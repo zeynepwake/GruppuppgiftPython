{
 "cells": [
  {
   "cell_type": "code",
   "execution_count": 1,
   "source": [
    "import sqlite3\r\n",
    "import pandas as pd\r\n",
    "#from datetime import datetime\r\n",
    "import DB_Handling\r\n",
    "import API_interface"
   ],
   "outputs": [],
   "metadata": {}
  },
  {
   "cell_type": "code",
   "execution_count": 2,
   "source": [
    "#DB inicializalas\r\n",
    "ML_db = DB_Handling.MLModel_DB('DB_ML_History.db')\r\n",
    "ML_db.create_db()"
   ],
   "outputs": [],
   "metadata": {}
  },
  {
   "cell_type": "code",
   "execution_count": null,
   "source": [
    "#Create Models\r\n",
    "models = API_interface.API_Requests.models\r\n",
    "for modelname in models:\r\n",
    "    ML_db.create_model(modelname)"
   ],
   "outputs": [],
   "metadata": {}
  },
  {
   "cell_type": "code",
   "execution_count": null,
   "source": [
    "#Create Users\r\n",
    "ML_db.create_user('foobar', 'fb', 'Foo', 'Bar')"
   ],
   "outputs": [],
   "metadata": {}
  },
  {
   "cell_type": "code",
   "execution_count": 4,
   "source": [
    "#Create Users\r\n",
    "ML_db.create_user('zsolka', 'Bla', 'Zsolt', 'Nyurga')\r\n",
    "ML_db.create_user('zsolesz', 'Phuuu', 'Zsolt', 'Nyirati')\r\n",
    "ML_db.create_user('sandy', 'Picike', 'Szandra', 'Varga')"
   ],
   "outputs": [],
   "metadata": {}
  },
  {
   "cell_type": "code",
   "execution_count": 3,
   "source": [
    "#CHK_account_if_exists\r\n",
    "ML_db.chk_account_if_exists('sandy')"
   ],
   "outputs": [
    {
     "output_type": "execute_result",
     "data": {
      "text/plain": [
       "True"
      ]
     },
     "metadata": {},
     "execution_count": 3
    }
   ],
   "metadata": {}
  },
  {
   "cell_type": "code",
   "execution_count": 6,
   "source": [
    "#LOGIN\r\n",
    "ML_db.login('sandy','Picike')\r\n"
   ],
   "outputs": [
    {
     "output_type": "execute_result",
     "data": {
      "text/html": [
       "<div>\n",
       "<style scoped>\n",
       "    .dataframe tbody tr th:only-of-type {\n",
       "        vertical-align: middle;\n",
       "    }\n",
       "\n",
       "    .dataframe tbody tr th {\n",
       "        vertical-align: top;\n",
       "    }\n",
       "\n",
       "    .dataframe thead th {\n",
       "        text-align: right;\n",
       "    }\n",
       "</style>\n",
       "<table border=\"1\" class=\"dataframe\">\n",
       "  <thead>\n",
       "    <tr style=\"text-align: right;\">\n",
       "      <th></th>\n",
       "      <th>account_name</th>\n",
       "      <th>pwd</th>\n",
       "      <th>first_name</th>\n",
       "      <th>last_name</th>\n",
       "    </tr>\n",
       "  </thead>\n",
       "  <tbody>\n",
       "    <tr>\n",
       "      <th>0</th>\n",
       "      <td>sandy</td>\n",
       "      <td>Picike</td>\n",
       "      <td>Szandra</td>\n",
       "      <td>Varga</td>\n",
       "    </tr>\n",
       "  </tbody>\n",
       "</table>\n",
       "</div>"
      ],
      "text/plain": [
       "  account_name     pwd first_name last_name\n",
       "0        sandy  Picike    Szandra     Varga"
      ]
     },
     "metadata": {},
     "execution_count": 6
    }
   ],
   "metadata": {}
  },
  {
   "cell_type": "code",
   "execution_count": 3,
   "source": [
    "#Create LOG\r\n",
    "ML_db.create_log('zsolesz', 'sentiment_analysis',\r\n",
    "                'Oh My God', None, \r\n",
    "                'POSITIVE', 0.5875399112701416)"
   ],
   "outputs": [
    {
     "output_type": "execute_result",
     "data": {
      "text/plain": [
       "True"
      ]
     },
     "metadata": {},
     "execution_count": 3
    }
   ],
   "metadata": {}
  },
  {
   "cell_type": "code",
   "execution_count": 7,
   "source": [
    "ML_db.create_log(user_name = 'sandy', model_name = 'sentiment_analysis',\r\n",
    "                context = 'Oh My God', question = None,\r\n",
    "                answer = 'POSITIVE', score = 0.5875399112701416)"
   ],
   "outputs": [
    {
     "output_type": "execute_result",
     "data": {
      "text/plain": [
       "True"
      ]
     },
     "metadata": {},
     "execution_count": 7
    }
   ],
   "metadata": {}
  },
  {
   "cell_type": "code",
   "execution_count": 3,
   "source": [
    "#Query LOG by User\r\n",
    "df_log = ML_db.log_query('zsolesz')\r\n",
    "if df_log is None:\r\n",
    "    print('Sorry')\r\n",
    "else:\r\n",
    "    df_log.head()"
   ],
   "outputs": [],
   "metadata": {}
  }
 ],
 "metadata": {
  "kernelspec": {
   "name": "python3",
   "display_name": "Python 3.9.6 64-bit ('API_Env': conda)"
  },
  "language_info": {
   "codemirror_mode": {
    "name": "ipython",
    "version": 3
   },
   "file_extension": ".py",
   "mimetype": "text/x-python",
   "name": "python",
   "nbconvert_exporter": "python",
   "pygments_lexer": "ipython3",
   "version": "3.9.6"
  },
  "interpreter": {
   "hash": "bd0601da15c7c0756b5fb1bcc10e961dbf820ebcade5180ca0fad0b9a6d8d6ff"
  }
 },
 "nbformat": 4,
 "nbformat_minor": 5
}